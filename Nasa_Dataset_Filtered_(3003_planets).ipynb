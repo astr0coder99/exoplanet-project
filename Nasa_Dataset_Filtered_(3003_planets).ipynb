{
  "nbformat": 4,
  "nbformat_minor": 0,
  "metadata": {
    "colab": {
      "provenance": []
    },
    "kernelspec": {
      "name": "python3",
      "display_name": "Python 3"
    },
    "language_info": {
      "name": "python"
    }
  },
  "cells": [
    {
      "cell_type": "code",
      "source": [
        "from google.colab import files\n",
        "uploaded = files.upload()\n"
      ],
      "metadata": {
        "colab": {
          "base_uri": "https://localhost:8080/",
          "height": 73
        },
        "id": "XdC9Nj1hVR7F",
        "outputId": "84d2e5bf-5a42-42b9-898c-e21e91198ea8"
      },
      "execution_count": null,
      "outputs": [
        {
          "output_type": "display_data",
          "data": {
            "text/plain": [
              "<IPython.core.display.HTML object>"
            ],
            "text/html": [
              "\n",
              "     <input type=\"file\" id=\"files-0c6dc845-0816-4f8d-8cc9-df333d0babd7\" name=\"files[]\" multiple disabled\n",
              "        style=\"border:none\" />\n",
              "     <output id=\"result-0c6dc845-0816-4f8d-8cc9-df333d0babd7\">\n",
              "      Upload widget is only available when the cell has been executed in the\n",
              "      current browser session. Please rerun this cell to enable.\n",
              "      </output>\n",
              "      <script>// Copyright 2017 Google LLC\n",
              "//\n",
              "// Licensed under the Apache License, Version 2.0 (the \"License\");\n",
              "// you may not use this file except in compliance with the License.\n",
              "// You may obtain a copy of the License at\n",
              "//\n",
              "//      http://www.apache.org/licenses/LICENSE-2.0\n",
              "//\n",
              "// Unless required by applicable law or agreed to in writing, software\n",
              "// distributed under the License is distributed on an \"AS IS\" BASIS,\n",
              "// WITHOUT WARRANTIES OR CONDITIONS OF ANY KIND, either express or implied.\n",
              "// See the License for the specific language governing permissions and\n",
              "// limitations under the License.\n",
              "\n",
              "/**\n",
              " * @fileoverview Helpers for google.colab Python module.\n",
              " */\n",
              "(function(scope) {\n",
              "function span(text, styleAttributes = {}) {\n",
              "  const element = document.createElement('span');\n",
              "  element.textContent = text;\n",
              "  for (const key of Object.keys(styleAttributes)) {\n",
              "    element.style[key] = styleAttributes[key];\n",
              "  }\n",
              "  return element;\n",
              "}\n",
              "\n",
              "// Max number of bytes which will be uploaded at a time.\n",
              "const MAX_PAYLOAD_SIZE = 100 * 1024;\n",
              "\n",
              "function _uploadFiles(inputId, outputId) {\n",
              "  const steps = uploadFilesStep(inputId, outputId);\n",
              "  const outputElement = document.getElementById(outputId);\n",
              "  // Cache steps on the outputElement to make it available for the next call\n",
              "  // to uploadFilesContinue from Python.\n",
              "  outputElement.steps = steps;\n",
              "\n",
              "  return _uploadFilesContinue(outputId);\n",
              "}\n",
              "\n",
              "// This is roughly an async generator (not supported in the browser yet),\n",
              "// where there are multiple asynchronous steps and the Python side is going\n",
              "// to poll for completion of each step.\n",
              "// This uses a Promise to block the python side on completion of each step,\n",
              "// then passes the result of the previous step as the input to the next step.\n",
              "function _uploadFilesContinue(outputId) {\n",
              "  const outputElement = document.getElementById(outputId);\n",
              "  const steps = outputElement.steps;\n",
              "\n",
              "  const next = steps.next(outputElement.lastPromiseValue);\n",
              "  return Promise.resolve(next.value.promise).then((value) => {\n",
              "    // Cache the last promise value to make it available to the next\n",
              "    // step of the generator.\n",
              "    outputElement.lastPromiseValue = value;\n",
              "    return next.value.response;\n",
              "  });\n",
              "}\n",
              "\n",
              "/**\n",
              " * Generator function which is called between each async step of the upload\n",
              " * process.\n",
              " * @param {string} inputId Element ID of the input file picker element.\n",
              " * @param {string} outputId Element ID of the output display.\n",
              " * @return {!Iterable<!Object>} Iterable of next steps.\n",
              " */\n",
              "function* uploadFilesStep(inputId, outputId) {\n",
              "  const inputElement = document.getElementById(inputId);\n",
              "  inputElement.disabled = false;\n",
              "\n",
              "  const outputElement = document.getElementById(outputId);\n",
              "  outputElement.innerHTML = '';\n",
              "\n",
              "  const pickedPromise = new Promise((resolve) => {\n",
              "    inputElement.addEventListener('change', (e) => {\n",
              "      resolve(e.target.files);\n",
              "    });\n",
              "  });\n",
              "\n",
              "  const cancel = document.createElement('button');\n",
              "  inputElement.parentElement.appendChild(cancel);\n",
              "  cancel.textContent = 'Cancel upload';\n",
              "  const cancelPromise = new Promise((resolve) => {\n",
              "    cancel.onclick = () => {\n",
              "      resolve(null);\n",
              "    };\n",
              "  });\n",
              "\n",
              "  // Wait for the user to pick the files.\n",
              "  const files = yield {\n",
              "    promise: Promise.race([pickedPromise, cancelPromise]),\n",
              "    response: {\n",
              "      action: 'starting',\n",
              "    }\n",
              "  };\n",
              "\n",
              "  cancel.remove();\n",
              "\n",
              "  // Disable the input element since further picks are not allowed.\n",
              "  inputElement.disabled = true;\n",
              "\n",
              "  if (!files) {\n",
              "    return {\n",
              "      response: {\n",
              "        action: 'complete',\n",
              "      }\n",
              "    };\n",
              "  }\n",
              "\n",
              "  for (const file of files) {\n",
              "    const li = document.createElement('li');\n",
              "    li.append(span(file.name, {fontWeight: 'bold'}));\n",
              "    li.append(span(\n",
              "        `(${file.type || 'n/a'}) - ${file.size} bytes, ` +\n",
              "        `last modified: ${\n",
              "            file.lastModifiedDate ? file.lastModifiedDate.toLocaleDateString() :\n",
              "                                    'n/a'} - `));\n",
              "    const percent = span('0% done');\n",
              "    li.appendChild(percent);\n",
              "\n",
              "    outputElement.appendChild(li);\n",
              "\n",
              "    const fileDataPromise = new Promise((resolve) => {\n",
              "      const reader = new FileReader();\n",
              "      reader.onload = (e) => {\n",
              "        resolve(e.target.result);\n",
              "      };\n",
              "      reader.readAsArrayBuffer(file);\n",
              "    });\n",
              "    // Wait for the data to be ready.\n",
              "    let fileData = yield {\n",
              "      promise: fileDataPromise,\n",
              "      response: {\n",
              "        action: 'continue',\n",
              "      }\n",
              "    };\n",
              "\n",
              "    // Use a chunked sending to avoid message size limits. See b/62115660.\n",
              "    let position = 0;\n",
              "    do {\n",
              "      const length = Math.min(fileData.byteLength - position, MAX_PAYLOAD_SIZE);\n",
              "      const chunk = new Uint8Array(fileData, position, length);\n",
              "      position += length;\n",
              "\n",
              "      const base64 = btoa(String.fromCharCode.apply(null, chunk));\n",
              "      yield {\n",
              "        response: {\n",
              "          action: 'append',\n",
              "          file: file.name,\n",
              "          data: base64,\n",
              "        },\n",
              "      };\n",
              "\n",
              "      let percentDone = fileData.byteLength === 0 ?\n",
              "          100 :\n",
              "          Math.round((position / fileData.byteLength) * 100);\n",
              "      percent.textContent = `${percentDone}% done`;\n",
              "\n",
              "    } while (position < fileData.byteLength);\n",
              "  }\n",
              "\n",
              "  // All done.\n",
              "  yield {\n",
              "    response: {\n",
              "      action: 'complete',\n",
              "    }\n",
              "  };\n",
              "}\n",
              "\n",
              "scope.google = scope.google || {};\n",
              "scope.google.colab = scope.google.colab || {};\n",
              "scope.google.colab._files = {\n",
              "  _uploadFiles,\n",
              "  _uploadFilesContinue,\n",
              "};\n",
              "})(self);\n",
              "</script> "
            ]
          },
          "metadata": {}
        },
        {
          "output_type": "stream",
          "name": "stdout",
          "text": [
            "Saving Nasa Dataset.csv to Nasa Dataset (1).csv\n"
          ]
        }
      ]
    },
    {
      "cell_type": "code",
      "source": [
        "print(list(uploaded.keys()))\n"
      ],
      "metadata": {
        "colab": {
          "base_uri": "https://localhost:8080/"
        },
        "id": "CuOmCF3dVmO-",
        "outputId": "c33242f7-abe1-44a2-c5f6-bcdc297a8a4a"
      },
      "execution_count": null,
      "outputs": [
        {
          "output_type": "stream",
          "name": "stdout",
          "text": [
            "['Nasa Dataset (1).csv']\n"
          ]
        }
      ]
    },
    {
      "cell_type": "code",
      "source": [
        "import pandas as pd\n",
        "\n",
        "filename = 'Nasa Dataset (1).csv'\n",
        "\n",
        "# Load dataset without filtering just to inspect columns\n",
        "data = pd.read_csv(filename, comment='#', engine='python', on_bad_lines='skip')\n",
        "\n",
        "print(data.columns)  # Print all column names\n",
        "print(data.head())   # Print first 5 rows to see data\n"
      ],
      "metadata": {
        "colab": {
          "base_uri": "https://localhost:8080/"
        },
        "id": "ojToQQ4SV1S5",
        "outputId": "cde5d382-0dd8-43fc-9cfd-0b9ccc2dbfe1"
      },
      "execution_count": null,
      "outputs": [
        {
          "output_type": "stream",
          "name": "stdout",
          "text": [
            "Index(['pl_name', 'hostname', 'default_flag', 'sy_snum', 'sy_pnum',\n",
            "       'discoverymethod', 'disc_year', 'disc_facility', 'soltype',\n",
            "       'pl_controv_flag', 'pl_refname', 'pl_orbper', 'pl_orbsmax', 'pl_rade',\n",
            "       'pl_radj', 'pl_bmasse', 'pl_bmassj', 'pl_bmassprov', 'pl_orbeccen',\n",
            "       'pl_insol', 'pl_eqt', 'ttv_flag', 'st_refname', 'st_spectype',\n",
            "       'st_teff', 'st_rad', 'st_mass', 'st_met', 'st_metratio', 'st_logg',\n",
            "       'sy_refname', 'rastr', 'ra', 'decstr', 'dec', 'sy_dist', 'sy_vmag',\n",
            "       'sy_kmag', 'sy_gaiamag', 'rowupdate', 'pl_pubdate', 'releasedate'],\n",
            "      dtype='object')\n",
            "    pl_name hostname  default_flag  sy_snum  sy_pnum  discoverymethod  \\\n",
            "0  11 Com b   11 Com             0        2        1  Radial Velocity   \n",
            "1  11 Com b   11 Com             0        2        1  Radial Velocity   \n",
            "2  11 Com b   11 Com             1        2        1  Radial Velocity   \n",
            "3  11 UMi b   11 UMi             1        1        1  Radial Velocity   \n",
            "4  11 UMi b   11 UMi             0        1        1  Radial Velocity   \n",
            "\n",
            "   disc_year                           disc_facility              soltype  \\\n",
            "0       2007                        Xinglong Station  Published Confirmed   \n",
            "1       2007                        Xinglong Station  Published Confirmed   \n",
            "2       2007                        Xinglong Station  Published Confirmed   \n",
            "3       2009  Thueringer Landessternwarte Tautenburg  Published Confirmed   \n",
            "4       2009  Thueringer Landessternwarte Tautenburg  Published Confirmed   \n",
            "\n",
            "   pl_controv_flag  ...          ra         decstr        dec   sy_dist  \\\n",
            "0                0  ...  185.178779  +17d47m35.71s  17.793252   93.1846   \n",
            "1                0  ...  185.178779  +17d47m35.71s  17.793252   93.1846   \n",
            "2                0  ...  185.178779  +17d47m35.71s  17.793252   93.1846   \n",
            "3                0  ...  229.274595  +71d49m26.19s  71.823943  125.3210   \n",
            "4                0  ...  229.274595  +71d49m26.19s  71.823943  125.3210   \n",
            "\n",
            "   sy_vmag  sy_kmag  sy_gaiamag   rowupdate  pl_pubdate  releasedate  \n",
            "0  4.72307    2.282     4.44038  2014-07-23     2011-08   2014-07-23  \n",
            "1  4.72307    2.282     4.44038  2014-05-14     2008-01   2014-05-14  \n",
            "2  4.72307    2.282     4.44038  2023-09-19     2023-08   2023-09-19  \n",
            "3  5.01300    1.939     4.56216  2018-09-04     2017-03   2018-09-06  \n",
            "4  5.01300    1.939     4.56216  2018-04-25     2011-08   2014-07-23  \n",
            "\n",
            "[5 rows x 42 columns]\n"
          ]
        }
      ]
    },
    {
      "cell_type": "code",
      "source": [
        "import pandas as pd\n",
        "\n",
        "filename = 'Nasa Dataset (1).csv'\n",
        "\n",
        "# Load the dataset\n",
        "data = pd.read_csv(filename, comment='#', engine='python', on_bad_lines='skip')\n",
        "\n",
        "# Filter to only rows where 'soltype' contains 'Published Confirmed'\n",
        "confirmed = data[data['soltype'].str.contains('Published Confirmed', na=False)]\n",
        "\n",
        "print(f\"Number of confirmed planets: {len(confirmed)}\")\n",
        "\n",
        "# Save this filtered dataset to a new CSV file\n",
        "confirmed.to_csv('confirmed_exoplanets.csv', index=False)\n"
      ],
      "metadata": {
        "colab": {
          "base_uri": "https://localhost:8080/"
        },
        "id": "7wJdd2UyWAID",
        "outputId": "bf4e2a7c-e4ab-450f-9e32-c7fad458020f"
      },
      "execution_count": null,
      "outputs": [
        {
          "output_type": "stream",
          "name": "stdout",
          "text": [
            "Number of confirmed planets: 19239\n"
          ]
        }
      ]
    },
    {
      "cell_type": "code",
      "source": [
        "# Keep only planets that have radius and mass info (no NaNs in these columns)\n",
        "filtered = confirmed.dropna(subset=['pl_rade', 'pl_bmasse'])\n",
        "\n",
        "print(f\"Planets after filtering for radius and mass: {len(filtered)}\")\n",
        "\n",
        "# Save this smaller filtered dataset\n",
        "filtered.to_csv('filtered_exoplanets.csv', index=False)\n"
      ],
      "metadata": {
        "colab": {
          "base_uri": "https://localhost:8080/"
        },
        "id": "8whycFUaWN39",
        "outputId": "d4f98f49-b6d3-4efd-bc7d-59f78ccea126"
      },
      "execution_count": null,
      "outputs": [
        {
          "output_type": "stream",
          "name": "stdout",
          "text": [
            "Planets after filtering for radius and mass: 3002\n"
          ]
        }
      ]
    },
    {
      "cell_type": "code",
      "source": [
        "filtered_data = data.dropna(subset=['pl_rade', 'pl_bmasse'])\n"
      ],
      "metadata": {
        "id": "an68N1AhX0Ko"
      },
      "execution_count": null,
      "outputs": []
    },
    {
      "cell_type": "code",
      "source": [
        "filtered_data.to_csv('filtered_exoplanets.csv', index=False)\n"
      ],
      "metadata": {
        "id": "rEUm-btpX_TF"
      },
      "execution_count": null,
      "outputs": []
    },
    {
      "cell_type": "code",
      "source": [
        "from google.colab import files\n",
        "files.download('filtered_exoplanets.csv')\n"
      ],
      "metadata": {
        "id": "CbaqWMJ8YBVE",
        "outputId": "f4b59b35-4290-4019-d0cd-a3b74b929265",
        "colab": {
          "base_uri": "https://localhost:8080/",
          "height": 17
        }
      },
      "execution_count": null,
      "outputs": [
        {
          "output_type": "display_data",
          "data": {
            "text/plain": [
              "<IPython.core.display.Javascript object>"
            ],
            "application/javascript": [
              "\n",
              "    async function download(id, filename, size) {\n",
              "      if (!google.colab.kernel.accessAllowed) {\n",
              "        return;\n",
              "      }\n",
              "      const div = document.createElement('div');\n",
              "      const label = document.createElement('label');\n",
              "      label.textContent = `Downloading \"${filename}\": `;\n",
              "      div.appendChild(label);\n",
              "      const progress = document.createElement('progress');\n",
              "      progress.max = size;\n",
              "      div.appendChild(progress);\n",
              "      document.body.appendChild(div);\n",
              "\n",
              "      const buffers = [];\n",
              "      let downloaded = 0;\n",
              "\n",
              "      const channel = await google.colab.kernel.comms.open(id);\n",
              "      // Send a message to notify the kernel that we're ready.\n",
              "      channel.send({})\n",
              "\n",
              "      for await (const message of channel.messages) {\n",
              "        // Send a message to notify the kernel that we're ready.\n",
              "        channel.send({})\n",
              "        if (message.buffers) {\n",
              "          for (const buffer of message.buffers) {\n",
              "            buffers.push(buffer);\n",
              "            downloaded += buffer.byteLength;\n",
              "            progress.value = downloaded;\n",
              "          }\n",
              "        }\n",
              "      }\n",
              "      const blob = new Blob(buffers, {type: 'application/binary'});\n",
              "      const a = document.createElement('a');\n",
              "      a.href = window.URL.createObjectURL(blob);\n",
              "      a.download = filename;\n",
              "      div.appendChild(a);\n",
              "      a.click();\n",
              "      div.remove();\n",
              "    }\n",
              "  "
            ]
          },
          "metadata": {}
        },
        {
          "output_type": "display_data",
          "data": {
            "text/plain": [
              "<IPython.core.display.Javascript object>"
            ],
            "application/javascript": [
              "download(\"download_2d3e00f6-ab75-4700-9050-2fa0ef529866\", \"filtered_exoplanets.csv\", 2005677)"
            ]
          },
          "metadata": {}
        }
      ]
    }
  ]
}