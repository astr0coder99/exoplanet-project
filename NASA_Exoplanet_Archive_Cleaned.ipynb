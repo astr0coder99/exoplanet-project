{
  "nbformat": 4,
  "nbformat_minor": 0,
  "metadata": {
    "colab": {
      "provenance": []
    },
    "kernelspec": {
      "name": "python3",
      "display_name": "Python 3"
    },
    "language_info": {
      "name": "python"
    }
  },
  "cells": [
    {
      "cell_type": "code",
      "execution_count": 1,
      "metadata": {
        "colab": {
          "base_uri": "https://localhost:8080/",
          "height": 73
        },
        "id": "CYhowTY_VAGz",
        "outputId": "af3fc7c4-fcdf-46d4-a523-7468e83ebcbf"
      },
      "outputs": [
        {
          "output_type": "display_data",
          "data": {
            "text/plain": [
              "<IPython.core.display.HTML object>"
            ],
            "text/html": [
              "\n",
              "     <input type=\"file\" id=\"files-f95afd7d-247b-48b2-8790-008bd8250aaa\" name=\"files[]\" multiple disabled\n",
              "        style=\"border:none\" />\n",
              "     <output id=\"result-f95afd7d-247b-48b2-8790-008bd8250aaa\">\n",
              "      Upload widget is only available when the cell has been executed in the\n",
              "      current browser session. Please rerun this cell to enable.\n",
              "      </output>\n",
              "      <script>// Copyright 2017 Google LLC\n",
              "//\n",
              "// Licensed under the Apache License, Version 2.0 (the \"License\");\n",
              "// you may not use this file except in compliance with the License.\n",
              "// You may obtain a copy of the License at\n",
              "//\n",
              "//      http://www.apache.org/licenses/LICENSE-2.0\n",
              "//\n",
              "// Unless required by applicable law or agreed to in writing, software\n",
              "// distributed under the License is distributed on an \"AS IS\" BASIS,\n",
              "// WITHOUT WARRANTIES OR CONDITIONS OF ANY KIND, either express or implied.\n",
              "// See the License for the specific language governing permissions and\n",
              "// limitations under the License.\n",
              "\n",
              "/**\n",
              " * @fileoverview Helpers for google.colab Python module.\n",
              " */\n",
              "(function(scope) {\n",
              "function span(text, styleAttributes = {}) {\n",
              "  const element = document.createElement('span');\n",
              "  element.textContent = text;\n",
              "  for (const key of Object.keys(styleAttributes)) {\n",
              "    element.style[key] = styleAttributes[key];\n",
              "  }\n",
              "  return element;\n",
              "}\n",
              "\n",
              "// Max number of bytes which will be uploaded at a time.\n",
              "const MAX_PAYLOAD_SIZE = 100 * 1024;\n",
              "\n",
              "function _uploadFiles(inputId, outputId) {\n",
              "  const steps = uploadFilesStep(inputId, outputId);\n",
              "  const outputElement = document.getElementById(outputId);\n",
              "  // Cache steps on the outputElement to make it available for the next call\n",
              "  // to uploadFilesContinue from Python.\n",
              "  outputElement.steps = steps;\n",
              "\n",
              "  return _uploadFilesContinue(outputId);\n",
              "}\n",
              "\n",
              "// This is roughly an async generator (not supported in the browser yet),\n",
              "// where there are multiple asynchronous steps and the Python side is going\n",
              "// to poll for completion of each step.\n",
              "// This uses a Promise to block the python side on completion of each step,\n",
              "// then passes the result of the previous step as the input to the next step.\n",
              "function _uploadFilesContinue(outputId) {\n",
              "  const outputElement = document.getElementById(outputId);\n",
              "  const steps = outputElement.steps;\n",
              "\n",
              "  const next = steps.next(outputElement.lastPromiseValue);\n",
              "  return Promise.resolve(next.value.promise).then((value) => {\n",
              "    // Cache the last promise value to make it available to the next\n",
              "    // step of the generator.\n",
              "    outputElement.lastPromiseValue = value;\n",
              "    return next.value.response;\n",
              "  });\n",
              "}\n",
              "\n",
              "/**\n",
              " * Generator function which is called between each async step of the upload\n",
              " * process.\n",
              " * @param {string} inputId Element ID of the input file picker element.\n",
              " * @param {string} outputId Element ID of the output display.\n",
              " * @return {!Iterable<!Object>} Iterable of next steps.\n",
              " */\n",
              "function* uploadFilesStep(inputId, outputId) {\n",
              "  const inputElement = document.getElementById(inputId);\n",
              "  inputElement.disabled = false;\n",
              "\n",
              "  const outputElement = document.getElementById(outputId);\n",
              "  outputElement.innerHTML = '';\n",
              "\n",
              "  const pickedPromise = new Promise((resolve) => {\n",
              "    inputElement.addEventListener('change', (e) => {\n",
              "      resolve(e.target.files);\n",
              "    });\n",
              "  });\n",
              "\n",
              "  const cancel = document.createElement('button');\n",
              "  inputElement.parentElement.appendChild(cancel);\n",
              "  cancel.textContent = 'Cancel upload';\n",
              "  const cancelPromise = new Promise((resolve) => {\n",
              "    cancel.onclick = () => {\n",
              "      resolve(null);\n",
              "    };\n",
              "  });\n",
              "\n",
              "  // Wait for the user to pick the files.\n",
              "  const files = yield {\n",
              "    promise: Promise.race([pickedPromise, cancelPromise]),\n",
              "    response: {\n",
              "      action: 'starting',\n",
              "    }\n",
              "  };\n",
              "\n",
              "  cancel.remove();\n",
              "\n",
              "  // Disable the input element since further picks are not allowed.\n",
              "  inputElement.disabled = true;\n",
              "\n",
              "  if (!files) {\n",
              "    return {\n",
              "      response: {\n",
              "        action: 'complete',\n",
              "      }\n",
              "    };\n",
              "  }\n",
              "\n",
              "  for (const file of files) {\n",
              "    const li = document.createElement('li');\n",
              "    li.append(span(file.name, {fontWeight: 'bold'}));\n",
              "    li.append(span(\n",
              "        `(${file.type || 'n/a'}) - ${file.size} bytes, ` +\n",
              "        `last modified: ${\n",
              "            file.lastModifiedDate ? file.lastModifiedDate.toLocaleDateString() :\n",
              "                                    'n/a'} - `));\n",
              "    const percent = span('0% done');\n",
              "    li.appendChild(percent);\n",
              "\n",
              "    outputElement.appendChild(li);\n",
              "\n",
              "    const fileDataPromise = new Promise((resolve) => {\n",
              "      const reader = new FileReader();\n",
              "      reader.onload = (e) => {\n",
              "        resolve(e.target.result);\n",
              "      };\n",
              "      reader.readAsArrayBuffer(file);\n",
              "    });\n",
              "    // Wait for the data to be ready.\n",
              "    let fileData = yield {\n",
              "      promise: fileDataPromise,\n",
              "      response: {\n",
              "        action: 'continue',\n",
              "      }\n",
              "    };\n",
              "\n",
              "    // Use a chunked sending to avoid message size limits. See b/62115660.\n",
              "    let position = 0;\n",
              "    do {\n",
              "      const length = Math.min(fileData.byteLength - position, MAX_PAYLOAD_SIZE);\n",
              "      const chunk = new Uint8Array(fileData, position, length);\n",
              "      position += length;\n",
              "\n",
              "      const base64 = btoa(String.fromCharCode.apply(null, chunk));\n",
              "      yield {\n",
              "        response: {\n",
              "          action: 'append',\n",
              "          file: file.name,\n",
              "          data: base64,\n",
              "        },\n",
              "      };\n",
              "\n",
              "      let percentDone = fileData.byteLength === 0 ?\n",
              "          100 :\n",
              "          Math.round((position / fileData.byteLength) * 100);\n",
              "      percent.textContent = `${percentDone}% done`;\n",
              "\n",
              "    } while (position < fileData.byteLength);\n",
              "  }\n",
              "\n",
              "  // All done.\n",
              "  yield {\n",
              "    response: {\n",
              "      action: 'complete',\n",
              "    }\n",
              "  };\n",
              "}\n",
              "\n",
              "scope.google = scope.google || {};\n",
              "scope.google.colab = scope.google.colab || {};\n",
              "scope.google.colab._files = {\n",
              "  _uploadFiles,\n",
              "  _uploadFilesContinue,\n",
              "};\n",
              "})(self);\n",
              "</script> "
            ]
          },
          "metadata": {}
        },
        {
          "output_type": "stream",
          "name": "stdout",
          "text": [
            "Saving NASA Exoplanet Archive_Raw.csv to NASA Exoplanet Archive_Raw.csv\n"
          ]
        }
      ],
      "source": [
        "from google.colab import files\n",
        "uploaded = files.upload()"
      ]
    },
    {
      "cell_type": "code",
      "source": [
        "import pandas as pd\n",
        "\n",
        "# --- 1. Load your raw exoplanet dataset ---\n",
        "# Make sure your CSV file 'NASA Exoplanet Archive_Raw.csv' is uploaded to your Colab environment.\n",
        "data_path = \"/content/NASA Exoplanet Archive_Raw.csv\"\n",
        "print(f\"Loading data from: {data_path}\")\n",
        "\n",
        "try:\n",
        "    df_raw = pd.read_csv(data_path)\n",
        "    print(f\"Successfully loaded {len(df_raw)} rows and {len(df_raw.columns)} columns from the raw file.\")\n",
        "except FileNotFoundError:\n",
        "    print(f\"Error: The file '{data_path}' was not found. Please upload it to your Colab session.\")\n",
        "    # Exit the script if the file isn't found\n",
        "    exit()\n",
        "\n",
        "# --- 2. Define the list of essential columns to keep ---\n",
        "# These are the 12 columns absolutely necessary for your habitability scoring metric,\n",
        "# including primary features and necessary fallback calculation parameters.\n",
        "essential_columns = [\n",
        "    'pl_name',          # Planet name (for identification)\n",
        "    'pl_rade',          # Planet Radius (Earth radii)\n",
        "    'pl_masse',         # Planet Mass (Earth masses)\n",
        "    'pl_eqt',           # Planet Equilibrium Temperature (Kelvin) - Used as surface temp\n",
        "    'pl_insol',         # Stellar Flux (W/m²)\n",
        "    'pl_orbper',        # Planet Orbital Period (days) - For flux fallback\n",
        "    'pl_orbsmax',       # Planet Semi-Major Axis (AU) - For flux fallback\n",
        "    'st_spectype',      # Stellar Spectral Type - For M-dwarf identification\n",
        "    'st_mass',          # Stellar Mass (Solar masses) - For flux fallback\n",
        "    'st_lum',           # Stellar Luminosity (Solar luminosities) - For flux fallback\n",
        "    'st_rad',           # Stellar Radius (Solar radii) - For stellar luminosity fallback\n",
        "    'st_teff'           # Stellar Effective Temperature (Kelvin) - For stellar luminosity fallback & M-dwarf\n",
        "]\n",
        "\n",
        "# --- 3. Filter the DataFrame to keep ONLY the essential columns ---\n",
        "# This operation effectively deletes all columns that are NOT in the essential_columns list.\n",
        "df_filtered = df_raw[essential_columns].copy()\n",
        "\n",
        "print(f\"\\nFiltered DataFrame now has {len(df_filtered.columns)} essential columns and {len(df_filtered)} rows.\")\n",
        "\n",
        "# --- 4. Display the first few rows of the filtered data (optional) ---\n",
        "print(\"\\nFirst 5 rows of the filtered DataFrame:\")\n",
        "print(df_filtered.head())\n",
        "\n",
        "# --- 5. Save the filtered DataFrame ---\n",
        "# It's highly recommended to save this cleaned data to a new CSV file.\n",
        "# You can then use this 'NASA_Exoplanet_Archive_Cleaned.csv' file for your scoring script.\n",
        "output_path = \"/content/NASA_Exoplanet_Archive_Cleaned.csv\"\n",
        "df_filtered.to_csv(output_path, index=False)\n",
        "print(f\"\\nCleaned data with only essential columns saved to: {output_path}\")\n",
        "\n",
        "print(\"\\nYour dataset is now perfectly prepared for the Top 100 scoring script using 'NASA_Exoplanet_Archive_Cleaned.csv'.\")"
      ],
      "metadata": {
        "colab": {
          "base_uri": "https://localhost:8080/"
        },
        "id": "MpuFRYZmWHzC",
        "outputId": "791a65c8-609b-475a-cfe8-372f6f5dc73b"
      },
      "execution_count": 4,
      "outputs": [
        {
          "output_type": "stream",
          "name": "stdout",
          "text": [
            "Loading data from: /content/NASA Exoplanet Archive_Raw.csv\n"
          ]
        },
        {
          "output_type": "stream",
          "name": "stderr",
          "text": [
            "/tmp/ipython-input-414078425.py:9: DtypeWarning: Columns (3,4) have mixed types. Specify dtype option on import or set low_memory=False.\n",
            "  df_raw = pd.read_csv(data_path)\n"
          ]
        },
        {
          "output_type": "stream",
          "name": "stdout",
          "text": [
            "Successfully loaded 38749 rows and 121 columns from the raw file.\n",
            "\n",
            "Filtered DataFrame now has 12 essential columns and 38749 rows.\n",
            "\n",
            "First 5 rows of the filtered DataFrame:\n",
            "    pl_name  pl_rade  pl_masse  pl_eqt  pl_insol  pl_orbper  pl_orbsmax  \\\n",
            "0  11 Com b      NaN       NaN     NaN       NaN     323.21       1.178   \n",
            "1  11 Com b      NaN       NaN     NaN       NaN        NaN       1.210   \n",
            "2  11 Com b      NaN       NaN     NaN       NaN     326.03       1.290   \n",
            "3  11 UMi b      NaN       NaN     NaN       NaN        NaN       1.510   \n",
            "4  11 UMi b      NaN       NaN     NaN       NaN     516.22       1.540   \n",
            "\n",
            "  st_spectype  st_mass   st_lum  st_rad  st_teff  \n",
            "0      G8 III     2.09  1.97823   13.76   4874.0  \n",
            "1         NaN     2.60      NaN     NaN      NaN  \n",
            "2      G8 III     2.70  2.24300   19.00   4742.0  \n",
            "3         NaN     1.70      NaN     NaN      NaN  \n",
            "4      K4 III     1.80      NaN   24.08   4340.0  \n",
            "\n",
            "Cleaned data with only essential columns saved to: /content/NASA_Exoplanet_Archive_Cleaned.csv\n",
            "\n",
            "Your dataset is now perfectly prepared for the Top 100 scoring script using 'NASA_Exoplanet_Archive_Cleaned.csv'.\n"
          ]
        }
      ]
    },
    {
      "cell_type": "code",
      "source": [
        "import pandas as pd\n",
        "\n",
        "# --- 1. Define the path to your cleaned dataset ---\n",
        "# This assumes you have already run the previous code to filter columns\n",
        "# and saved the output as 'NASA_Exoplanet_Archive_Cleaned.csv'.\n",
        "data_path = \"/content/NASA_Exoplanet_Archive_Cleaned.csv\"\n",
        "print(f\"Loading data from: {data_path}\")\n",
        "\n",
        "try:\n",
        "    df_cleaned = pd.read_csv(data_path)\n",
        "    print(f\"Successfully loaded {len(df_cleaned)} rows and {len(df_cleaned.columns)} columns.\")\n",
        "except FileNotFoundError:\n",
        "    print(f\"Error: The file '{data_path}' was not found. Please ensure it was created by the previous step.\")\n",
        "    # Exit the script if the file isn't found\n",
        "    exit()\n",
        "\n",
        "# --- 2. Remove duplicate rows ---\n",
        "# By default, subset=None means drop_duplicates will consider ALL columns\n",
        "# to identify duplicate rows. 'keep='first' means it will keep the first\n",
        "# occurrence of any duplicate set of rows.\n",
        "initial_rows = len(df_cleaned)\n",
        "df_deduplicated = df_cleaned.drop_duplicates(keep='first').copy()\n",
        "rows_after_deduplication = len(df_deduplicated)\n",
        "\n",
        "print(f\"\\nInitial number of rows: {initial_rows}\")\n",
        "print(f\"Number of rows after removing duplicates: {rows_after_deduplication}\")\n",
        "print(f\"Number of duplicate rows removed: {initial_rows - rows_after_deduplication}\")\n",
        "\n",
        "# --- 3. Overwrite the original 'NASA_Exoplanet_Archive_Cleaned.csv' file ---\n",
        "# This step saves the deduplicated DataFrame back to the original file path,\n",
        "# effectively updating the 'cleaned' file to contain only unique rows.\n",
        "df_deduplicated.to_csv(data_path, index=False)\n",
        "print(f\"\\nDeduplicated data saved back to: {data_path}\")\n",
        "\n",
        "print(\"\\nYour 'NASA_Exoplanet_Archive_Cleaned.csv' file has been updated and now contains only unique rows, ready for scoring.\")"
      ],
      "metadata": {
        "colab": {
          "base_uri": "https://localhost:8080/"
        },
        "id": "JJprEch1WePJ",
        "outputId": "58253b24-e856-4271-deb1-f997e62ffb25"
      },
      "execution_count": 5,
      "outputs": [
        {
          "output_type": "stream",
          "name": "stdout",
          "text": [
            "Loading data from: /content/NASA_Exoplanet_Archive_Cleaned.csv\n",
            "Successfully loaded 38749 rows and 12 columns.\n",
            "\n",
            "Initial number of rows: 38749\n",
            "Number of rows after removing duplicates: 33272\n",
            "Number of duplicate rows removed: 5477\n",
            "\n",
            "Deduplicated data saved back to: /content/NASA_Exoplanet_Archive_Cleaned.csv\n",
            "\n",
            "Your 'NASA_Exoplanet_Archive_Cleaned.csv' file has been updated and now contains only unique rows, ready for scoring.\n"
          ]
        }
      ]
    },
    {
      "cell_type": "code",
      "source": [
        "import pandas as pd\n",
        "\n",
        "# --- 1. Define the path to your cleaned dataset ---\n",
        "# This assumes you have already run the previous code to filter columns\n",
        "# and save the output as 'NASA_Exoplanet_Archive_Cleaned.csv'.\n",
        "data_path = \"/content/NASA_Exoplanet_Archive_Cleaned.csv\"\n",
        "print(f\"Loading data from: {data_path}\")\n",
        "\n",
        "try:\n",
        "    df_cleaned = pd.read_csv(data_path)\n",
        "    print(f\"Successfully loaded {len(df_cleaned)} rows and {len(df_cleaned.columns)} columns.\")\n",
        "except FileNotFoundError:\n",
        "    print(f\"Error: The file '{data_path}' was not found. Please ensure it was created by the previous step.\")\n",
        "    # Exit the script if the file isn't found\n",
        "    exit()\n",
        "\n",
        "# --- 2. Remove duplicate planets based on 'pl_name' ---\n",
        "# The 'subset=['pl_name']' argument tells drop_duplicates to only consider\n",
        "# the 'pl_name' column when identifying duplicate rows.\n",
        "# 'keep='first'' means if a planet name appears multiple times, the first\n",
        "# occurrence in the DataFrame will be kept, and subsequent occurrences will be dropped.\n",
        "initial_rows = len(df_cleaned)\n",
        "df_deduplicated_by_name = df_cleaned.drop_duplicates(subset=['pl_name'], keep='first').copy()\n",
        "rows_after_deduplication = len(df_deduplicated_by_name)\n",
        "\n",
        "print(f\"\\nInitial number of rows: {initial_rows}\")\n",
        "print(f\"Number of rows after removing duplicate planet names: {rows_after_deduplication}\")\n",
        "print(f\"Number of duplicate planet names removed: {initial_rows - rows_after_deduplication}\")\n",
        "\n",
        "# --- 3. Overwrite the original 'NASA_Exoplanet_Archive_Cleaned.csv' file ---\n",
        "# This step saves the deduplicated DataFrame back to the original file path,\n",
        "# effectively updating the 'cleaned' file to contain only unique planet names.\n",
        "df_deduplicated_by_name.to_csv(data_path, index=False)\n",
        "print(f\"\\nDeduplicated data saved back to: {data_path}\")\n",
        "\n",
        "print(\"\\nYour 'NASA_Exoplanet_Archive_Cleaned.csv' file has been updated and now contains only unique planet entries by name, ready for scoring.\")"
      ],
      "metadata": {
        "colab": {
          "base_uri": "https://localhost:8080/"
        },
        "id": "_5GzGq1oXetx",
        "outputId": "443f972a-dd18-456e-d284-aaefd491c075"
      },
      "execution_count": 6,
      "outputs": [
        {
          "output_type": "stream",
          "name": "stdout",
          "text": [
            "Loading data from: /content/NASA_Exoplanet_Archive_Cleaned.csv\n",
            "Successfully loaded 33272 rows and 12 columns.\n",
            "\n",
            "Initial number of rows: 33272\n",
            "Number of rows after removing duplicate planet names: 5983\n",
            "Number of duplicate planet names removed: 27289\n",
            "\n",
            "Deduplicated data saved back to: /content/NASA_Exoplanet_Archive_Cleaned.csv\n",
            "\n",
            "Your 'NASA_Exoplanet_Archive_Cleaned.csv' file has been updated and now contains only unique planet entries by name, ready for scoring.\n"
          ]
        }
      ]
    },
    {
      "cell_type": "code",
      "source": [
        "from google.colab import files\n",
        "\n",
        "# Define the path to the file you want to download\n",
        "# This assumes the file 'NASA_Exoplanet_Archive_Cleaned.csv'\n",
        "# exists in your Colab content directory after previous steps.\n",
        "file_to_download = \"/content/NASA_Exoplanet_Archive_Cleaned.csv\"\n",
        "\n",
        "print(f\"Attempting to download '{file_to_download}'...\")\n",
        "\n",
        "try:\n",
        "    # Use the files.download() function to initiate the download\n",
        "    files.download(file_to_download)\n",
        "    print(f\"'{file_to_download}' download initiated successfully.\")\n",
        "    print(\"Check your browser's download bar or designated downloads folder.\")\n",
        "except FileNotFoundError:\n",
        "    print(f\"Error: The file '{file_to_download}' was not found in your Colab environment.\")\n",
        "    print(\"Please ensure you have run the previous preprocessing and deduplication steps successfully.\")\n",
        "except Exception as e:\n",
        "    print(f\"An error occurred during download: {e}\")\n",
        "\n"
      ],
      "metadata": {
        "colab": {
          "base_uri": "https://localhost:8080/",
          "height": 69
        },
        "id": "cVNbrNAEXj-V",
        "outputId": "0a9751bf-4b55-4e84-83d4-f5267bf2b218"
      },
      "execution_count": 7,
      "outputs": [
        {
          "output_type": "stream",
          "name": "stdout",
          "text": [
            "Attempting to download '/content/NASA_Exoplanet_Archive_Cleaned.csv'...\n"
          ]
        },
        {
          "output_type": "display_data",
          "data": {
            "text/plain": [
              "<IPython.core.display.Javascript object>"
            ],
            "application/javascript": [
              "\n",
              "    async function download(id, filename, size) {\n",
              "      if (!google.colab.kernel.accessAllowed) {\n",
              "        return;\n",
              "      }\n",
              "      const div = document.createElement('div');\n",
              "      const label = document.createElement('label');\n",
              "      label.textContent = `Downloading \"${filename}\": `;\n",
              "      div.appendChild(label);\n",
              "      const progress = document.createElement('progress');\n",
              "      progress.max = size;\n",
              "      div.appendChild(progress);\n",
              "      document.body.appendChild(div);\n",
              "\n",
              "      const buffers = [];\n",
              "      let downloaded = 0;\n",
              "\n",
              "      const channel = await google.colab.kernel.comms.open(id);\n",
              "      // Send a message to notify the kernel that we're ready.\n",
              "      channel.send({})\n",
              "\n",
              "      for await (const message of channel.messages) {\n",
              "        // Send a message to notify the kernel that we're ready.\n",
              "        channel.send({})\n",
              "        if (message.buffers) {\n",
              "          for (const buffer of message.buffers) {\n",
              "            buffers.push(buffer);\n",
              "            downloaded += buffer.byteLength;\n",
              "            progress.value = downloaded;\n",
              "          }\n",
              "        }\n",
              "      }\n",
              "      const blob = new Blob(buffers, {type: 'application/binary'});\n",
              "      const a = document.createElement('a');\n",
              "      a.href = window.URL.createObjectURL(blob);\n",
              "      a.download = filename;\n",
              "      div.appendChild(a);\n",
              "      a.click();\n",
              "      div.remove();\n",
              "    }\n",
              "  "
            ]
          },
          "metadata": {}
        },
        {
          "output_type": "display_data",
          "data": {
            "text/plain": [
              "<IPython.core.display.Javascript object>"
            ],
            "application/javascript": [
              "download(\"download_33e6db01-2939-4f72-9b58-dc2910537871\", \"NASA_Exoplanet_Archive_Cleaned.csv\", 356791)"
            ]
          },
          "metadata": {}
        },
        {
          "output_type": "stream",
          "name": "stdout",
          "text": [
            "'/content/NASA_Exoplanet_Archive_Cleaned.csv' download initiated successfully.\n",
            "Check your browser's download bar or designated downloads folder.\n"
          ]
        }
      ]
    }
  ]
}